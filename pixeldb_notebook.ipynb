{
 "cells": [
  {
   "cell_type": "code",
   "execution_count": 1,
   "metadata": {},
   "outputs": [],
   "source": [
    "from stispixeldb import pixeldb,utils\n",
    "import pandas as pd\n",
    "import datetime"
   ]
  },
  {
   "cell_type": "markdown",
   "metadata": {},
   "source": [
    "## Query Interface to the STIS Pixel Database\n",
    "\n",
    "To install, run `python setup.py install` at the top level directory. This will allow the above import statement to work. Alternatively, can run `python setup.py develop` to have it track any code changes without needing to reinstall (this will require a re-import to take effect)."
   ]
  },
  {
   "cell_type": "code",
   "execution_count": 2,
   "metadata": {},
   "outputs": [],
   "source": [
    "#Create a connection object\n",
    "pixdb = pixeldb.PixelDB(\"localhost\",'root','',database='anneals_pixels')"
   ]
  },
  {
   "cell_type": "code",
   "execution_count": null,
   "metadata": {},
   "outputs": [],
   "source": [
    "#Explore the underlying connector object a bit\n",
    "pixdb.cursor.execute(\"SHOW TABLES\")\n",
    "result = []\n",
    "for x in pixdb.cursor:\n",
    "    print(x)\n",
    "    result.append(x)\n",
    "print(result)"
   ]
  },
  {
   "cell_type": "markdown",
   "metadata": {},
   "source": [
    "### Inserting Data"
   ]
  },
  {
   "cell_type": "code",
   "execution_count": null,
   "metadata": {},
   "outputs": [],
   "source": [
    "#Loads the initial map of pixel positions on the detector, only needs to be done once\n",
    "pixdb.load_pixel_mapping()"
   ]
  },
  {
   "cell_type": "code",
   "execution_count": null,
   "metadata": {},
   "outputs": [],
   "source": [
    "#Insert an anneal into the database, populates the HAS_PROPERTIES_IN, ANNEAL_PERIOD, and DARKS tables.\n",
    "pixdb.insert_anneal(200,'example_input\\\\')"
   ]
  },
  {
   "cell_type": "markdown",
   "metadata": {},
   "source": [
    "### Querying the Database"
   ]
  },
  {
   "cell_type": "code",
   "execution_count": 4,
   "metadata": {},
   "outputs": [
    {
     "data": {
      "text/plain": [
       "[]"
      ]
     },
     "execution_count": 4,
     "metadata": {},
     "output_type": "execute_result"
    }
   ],
   "source": [
    "pixdb.query_pixel(pixel_row=5,pixel_col=20, date='1997-12-15 16:32:15')"
   ]
  },
  {
   "cell_type": "code",
   "execution_count": 3,
   "metadata": {},
   "outputs": [
    {
     "name": "stdout",
     "output_type": "stream",
     "text": [
      "(0, 0, 'CCD')\n"
     ]
    }
   ],
   "source": []
  },
  {
   "cell_type": "code",
   "execution_count": 3,
   "metadata": {},
   "outputs": [
    {
     "name": "stdout",
     "output_type": "stream",
     "text": [
      "Starting First Half Insertion\n",
      "Starting Second Half Insertion\n"
     ]
    }
   ],
   "source": []
  },
  {
   "cell_type": "code",
   "execution_count": 7,
   "metadata": {},
   "outputs": [
    {
     "name": "stdout",
     "output_type": "stream",
     "text": [
      "('ANNEAL_PERIOD',)\n",
      "('DARKS',)\n",
      "('DETECTOR',)\n",
      "('HAS_PROPERTIES_IN',)\n",
      "('INSTRUMENT',)\n",
      "('PIXEL',)\n",
      "[('ANNEAL_PERIOD',), ('DARKS',), ('DETECTOR',), ('HAS_PROPERTIES_IN',), ('INSTRUMENT',), ('PIXEL',)]\n"
     ]
    }
   ],
   "source": []
  },
  {
   "cell_type": "code",
   "execution_count": null,
   "metadata": {},
   "outputs": [],
   "source": []
  }
 ],
 "metadata": {
  "kernelspec": {
   "display_name": "Python 3",
   "language": "python",
   "name": "python3"
  },
  "language_info": {
   "codemirror_mode": {
    "name": "ipython",
    "version": 3
   },
   "file_extension": ".py",
   "mimetype": "text/x-python",
   "name": "python",
   "nbconvert_exporter": "python",
   "pygments_lexer": "ipython3",
   "version": "3.7.5"
  }
 },
 "nbformat": 4,
 "nbformat_minor": 2
}
