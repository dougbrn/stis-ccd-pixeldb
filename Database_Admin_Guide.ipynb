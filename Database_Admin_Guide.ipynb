{
 "cells": [
  {
   "cell_type": "markdown",
   "metadata": {},
   "source": [
    "# Database Administrator Guide\n",
    "\n",
    "## Table of Contents:\n",
    "* [Schema and ERD](#schema)\n",
    "* [Database Table and Properties](#db)\n",
    "* [Python API Functions](#python)"
   ]
  },
  {
   "cell_type": "markdown",
   "metadata": {},
   "source": [
    "Below is a guide to the initial database schema and table set up, designed to be of assistance to an administrator who may need to learn or edit the database.There are six tables: instrument, detector, pixel, darks, anneal_period and has_properties_in.\n",
    "\n",
    "The first five tables establish entities and attributes related to them. The last and largest one, has_properties_in, establishes a relationship between anneal_period and pixel and produces they important attributes, stability and darkrate of each pixel over each anneal_period. Because there are so many pixels, the table will grow quite large, with each annealing period adding 1.05 million more records. At creation of the database, there are 200 annealing periods, producing just shy of 210 million records in the has_properties_in table. The expectation that this number will only grow in size was a key factor in the design of this database. The intent, was to build out the other pieces of the database in a streamlined manner. "
   ]
  },
  {
   "cell_type": "code",
   "execution_count": 3,
   "metadata": {},
   "outputs": [],
   "source": [
    "import os\n",
    "import mysql.connector\n",
    "import pandas as pd\n",
    "import numpy as np"
   ]
  },
  {
   "cell_type": "markdown",
   "metadata": {},
   "source": [
    "## Schema and ERD <a class=\"anchor\" id=\"schema\"></a>"
   ]
  },
  {
   "cell_type": "markdown",
   "metadata": {},
   "source": [
    "Here are the initial database schema and ERD.\n",
    "\n",
    "### Entity Relation Diagram\n",
    "\n",
    "<img src=\"plots/pixeldb_ERD.png\" width=700 height=700 />\n",
    "\n",
    "### Schema\n",
    "\n",
    "<img src=\"plots/pixeldb_schema.png\" width=600 height=800 />"
   ]
  },
  {
   "cell_type": "markdown",
   "metadata": {},
   "source": [
    "## Database Tables and Properties <a class=\"anchor\" id=\"db\"></a>"
   ]
  },
  {
   "cell_type": "markdown",
   "metadata": {},
   "source": [
    "This section provides detailed info on the database tables, including fields, datatypes and primary keys."
   ]
  },
  {
   "cell_type": "code",
   "execution_count": 4,
   "metadata": {},
   "outputs": [],
   "source": [
    "connection = mysql.connector.connect(host = 'localhost',\n",
    "                                    user = 'your_username',\n",
    "                                    password = 'your_password',\n",
    "                                    db = 'anneals_pixels',\n",
    "                                    auth_plugin='mysql_native_password')"
   ]
  },
  {
   "cell_type": "code",
   "execution_count": 5,
   "metadata": {},
   "outputs": [
    {
     "data": {
      "text/plain": [
       "<mysql.connector.connection.MySQLConnection at 0x23f8f31efd0>"
      ]
     },
     "execution_count": 5,
     "metadata": {},
     "output_type": "execute_result"
    }
   ],
   "source": [
    "connection"
   ]
  },
  {
   "cell_type": "code",
   "execution_count": 6,
   "metadata": {},
   "outputs": [],
   "source": [
    "pixel_tables = pd.read_sql_query('show tables from anneals_pixels', connection)"
   ]
  },
  {
   "cell_type": "code",
   "execution_count": 7,
   "metadata": {},
   "outputs": [
    {
     "data": {
      "text/html": [
       "<div>\n",
       "<style scoped>\n",
       "    .dataframe tbody tr th:only-of-type {\n",
       "        vertical-align: middle;\n",
       "    }\n",
       "\n",
       "    .dataframe tbody tr th {\n",
       "        vertical-align: top;\n",
       "    }\n",
       "\n",
       "    .dataframe thead th {\n",
       "        text-align: right;\n",
       "    }\n",
       "</style>\n",
       "<table border=\"1\" class=\"dataframe\">\n",
       "  <thead>\n",
       "    <tr style=\"text-align: right;\">\n",
       "      <th></th>\n",
       "      <th>Tables_in_anneals_pixels</th>\n",
       "    </tr>\n",
       "  </thead>\n",
       "  <tbody>\n",
       "    <tr>\n",
       "      <th>0</th>\n",
       "      <td>anneal_period</td>\n",
       "    </tr>\n",
       "    <tr>\n",
       "      <th>1</th>\n",
       "      <td>darks</td>\n",
       "    </tr>\n",
       "    <tr>\n",
       "      <th>2</th>\n",
       "      <td>detector</td>\n",
       "    </tr>\n",
       "    <tr>\n",
       "      <th>3</th>\n",
       "      <td>has_properties_in</td>\n",
       "    </tr>\n",
       "    <tr>\n",
       "      <th>4</th>\n",
       "      <td>instrument</td>\n",
       "    </tr>\n",
       "    <tr>\n",
       "      <th>5</th>\n",
       "      <td>pixel</td>\n",
       "    </tr>\n",
       "  </tbody>\n",
       "</table>\n",
       "</div>"
      ],
      "text/plain": [
       "  Tables_in_anneals_pixels\n",
       "0            anneal_period\n",
       "1                    darks\n",
       "2                 detector\n",
       "3        has_properties_in\n",
       "4               instrument\n",
       "5                    pixel"
      ]
     },
     "execution_count": 7,
     "metadata": {},
     "output_type": "execute_result"
    }
   ],
   "source": [
    "pixel_tables"
   ]
  },
  {
   "cell_type": "code",
   "execution_count": 8,
   "metadata": {},
   "outputs": [],
   "source": [
    "tables = pixel_tables['Tables_in_anneals_pixels']"
   ]
  },
  {
   "cell_type": "code",
   "execution_count": 10,
   "metadata": {},
   "outputs": [
    {
     "name": "stdout",
     "output_type": "stream",
     "text": [
      "anneal_period\n",
      "           Field     Type Null  Key Default Extra\n",
      "0   AnnealNumber   b'int'   NO  PRI    None      \n",
      "1      StartDate  b'date'  YES         None      \n",
      "2        EndDate  b'date'  YES         None      \n",
      "3  NumberOfDarks   b'int'  YES         None       \n",
      "\n",
      "darks\n",
      "          Field            Type Null  Key Default Extra\n",
      "0         Darks  b'varchar(10)'   NO  PRI    None      \n",
      "1  AnnealNumber          b'int'  YES  MUL    None       \n",
      "\n",
      "detector\n",
      "       Field            Type Null  Key Default Extra\n",
      "0      DName   b'varchar(8)'   NO  PRI    None      \n",
      "1   Annealed   b'tinyint(1)'  YES         None      \n",
      "2     N_Rows          b'int'  YES         None      \n",
      "3  N_Columns          b'int'  YES         None      \n",
      "4      IName  b'varchar(10)'  YES  MUL    None       \n",
      "\n",
      "has_properties_in\n",
      "          Field             Type Null  Key Default Extra\n",
      "0  AnnealNumber           b'int'   NO  PRI    None      \n",
      "1        RowNum           b'int'   NO  PRI    None      \n",
      "2     ColumnNum           b'int'   NO  PRI    None      \n",
      "3     Stability  b'decimal(9,4)'  YES         None      \n",
      "4      Sci_Mean  b'decimal(9,4)'  YES         None      \n",
      "5      Err_Mean  b'decimal(7,4)'  YES         None      \n",
      "6     NaN_Count           b'int'  YES         None      \n",
      "7     Readnoise  b'decimal(6,4)'  YES         None       \n",
      "\n",
      "instrument\n",
      "         Field            Type Null  Key Default Extra\n",
      "0        IName  b'varchar(10)'   NO  PRI    None      \n",
      "1  N_Detectors          b'int'  YES         None      \n",
      "2  Functioning   b'tinyint(1)'  YES         None       \n",
      "\n",
      "pixel\n",
      "           Field           Type Null  Key Default Extra\n",
      "0         RowNum         b'int'   NO  PRI    None      \n",
      "1      ColumnNum         b'int'   NO  PRI    None      \n",
      "2  Detector_Name  b'varchar(8)'  YES  MUL    None       \n",
      "\n"
     ]
    }
   ],
   "source": [
    "for table_name in tables:\n",
    "    output = pd.read_sql_query('Describe {}'.format(table_name), connection)\n",
    "    print(table_name)\n",
    "    print(output, '\\n')"
   ]
  },
  {
   "cell_type": "markdown",
   "metadata": {},
   "source": [
    "## Python API Functions <a class=\"anchor\" id=\"python\"></a>\n",
    "\n",
    "* [pixeldb.PixelDB.custom_query](#custom_query)\n",
    "* [pixeldb.PixelDB.query_pixel](#query_pixel)\n",
    "* [pixeldb.PixelDB.query_pixel_region](#query_pixel_region)\n",
    "* [pixeldb.PixelDB.query_anneal](#query_anneal)\n",
    "* [pixeldb.PixelDB.query_anneal_darks](#query_anneal_darks)\n",
    "* [pixeldb.PixelDB.load_pixel_mapping](#load_pixel_mapping)\n",
    "* [pixeldb.PixelDB.check_for_anneals](#check_for_anneals)\n",
    "* [pixeldb.PixelDB.insert_anneal](#insert_anneal)"
   ]
  },
  {
   "cell_type": "code",
   "execution_count": 1,
   "metadata": {},
   "outputs": [],
   "source": [
    "from stispixeldb import pixeldb"
   ]
  },
  {
   "cell_type": "code",
   "execution_count": 2,
   "metadata": {},
   "outputs": [],
   "source": [
    "#Create a connection object\n",
    "pixdb = pixeldb.PixelDB(host=\"localhost\",user='your_username',password='your_password',database='anneals_pixels')"
   ]
  },
  {
   "cell_type": "markdown",
   "metadata": {},
   "source": [
    "### pixeldb.PixelDB.custom_query <a class=\"anchor\" id=\"custom_query\"></a>"
   ]
  },
  {
   "cell_type": "code",
   "execution_count": 7,
   "metadata": {},
   "outputs": [
    {
     "name": "stdout",
     "output_type": "stream",
     "text": [
      "Execute a general mysql query against the database. Maintains a list of prohibited commands to execute.\n",
      "        \n",
      "        Args: \n",
      "            statement (str): The SQL string to execute against the database\n",
      "        Returns:\n",
      "            pandas.DataFrame: a dataframe of the results, may be empty if the query produces no output\n",
      "        \n"
     ]
    }
   ],
   "source": [
    "print(pixdb.custom_query.__doc__)"
   ]
  },
  {
   "cell_type": "markdown",
   "metadata": {},
   "source": [
    "### pixeldb.PixelDB.query_pixel <a class=\"anchor\" id=\"query_pixel\"></a>"
   ]
  },
  {
   "cell_type": "code",
   "execution_count": 6,
   "metadata": {},
   "outputs": [
    {
     "name": "stdout",
     "output_type": "stream",
     "text": [
      "Return pixel properties for a given pixel and anneal combination. Must specify one of date or anneal_number, if date is specified, will determine the correct anneal_number, if date and anneal_num are specified, the date will be ignored.\n",
      "        \n",
      "        Args:\n",
      "            pixel_row (int): The row index of the pixel to retreive\n",
      "            pixel_col (int): The column index of the pixel to retreive\n",
      "            date (:obj:,`str`, optional): Defaults to None, the date string in format YYYY-MM-DD or YYYY-MM-DD HH:MM:SS\n",
      "            anneal_num (:obj:,`int`, optional): Defaults to None, the anneal number to query on\n",
      "            columns (:obj:,`list`, optional): Defaults to the full set of columns, can specify a limited subset to return just those columns\n",
      "\n",
      "        Returns:\n",
      "            pandas.DataFrame: a dataframe of the results, may be empty if the query produces no output\n",
      "        \n"
     ]
    }
   ],
   "source": [
    "print(pixdb.query_pixel.__doc__)"
   ]
  },
  {
   "cell_type": "markdown",
   "metadata": {},
   "source": [
    "### pixeldb.PixelDB.query_pixel_region <a class=\"anchor\" id=\"query_pixel_region\"></a>"
   ]
  },
  {
   "cell_type": "code",
   "execution_count": 5,
   "metadata": {},
   "outputs": [
    {
     "name": "stdout",
     "output_type": "stream",
     "text": [
      "Return pixel properties for a given pixel and anneal combination.Must specify one of date or anneal_number, if date is specified, will determine the correct anneal_number, if date and anneal_num are specified, the date will be ignored.\n",
      "        \n",
      "        Args:\n",
      "            pixel_row_range (list or tuple): A tuple or list of the min and max values of the row range to query\n",
      "            pixel_col (list or tuple): A tuple or list of the min and max values of the column range to query\n",
      "            date (:obj:,`str`, optional): Defaults to None, the date string in format YYYY-MM-DD or YYYY-MM-DD HH:MM:SS\n",
      "            anneal_num (:obj:,`int`, optional): Defaults to None, the anneal number to query on\n",
      "            columns (:obj:,`list`, optional): Defaults to the full set of columns, can specify a limited subset to return just those columns\n",
      "\n",
      "        Returns:\n",
      "            pandas.DataFrame: a dataframe of the results, may be empty if the query produces no output\n",
      "        \n"
     ]
    }
   ],
   "source": [
    "print(pixdb.query_pixel_region.__doc__)"
   ]
  },
  {
   "cell_type": "markdown",
   "metadata": {},
   "source": [
    "### pixeldb.PixelDB.query_anneal <a class=\"anchor\" id=\"query_anneal\"></a>"
   ]
  },
  {
   "cell_type": "code",
   "execution_count": 8,
   "metadata": {},
   "outputs": [
    {
     "name": "stdout",
     "output_type": "stream",
     "text": [
      "Return anneal properties for a single anneal. Must specify one of date or anneal_number, if date is specified, will determine the correct anneal_number, if date and anneal_num are specified, the date will be ignored.\n",
      "        \n",
      "        Args:\n",
      "            date (:obj:,`str`, optional): Defaults to None, the date string in format YYYY-MM-DD or YYYY-MM-DD HH:MM:SS\n",
      "            anneal_num (:obj:,`int`, optional): Defaults to None, the anneal number to query on\n",
      "            instrument (:obj:,`str`, optional): Defaults to 'STIS', the instrument to query on\n",
      "            detector (:obj:,`str`, optional): Defaults to 'CCD', the instrument to query on\n",
      "            columns (:obj:,`list`, optional): Defaults to the full set of columns, can specify a limited subset to return just those columns\n",
      "        Returns:\n",
      "            pandas.DataFrame: a dataframe of the results, may be empty if the query produces no output\n",
      "        \n"
     ]
    }
   ],
   "source": [
    "print(pixdb.query_anneal.__doc__)"
   ]
  },
  {
   "cell_type": "markdown",
   "metadata": {},
   "source": [
    "### pixeldb.PixelDB.query_anneal_darks <a class=\"anchor\" id=\"query_anneal_darks\"></a>"
   ]
  },
  {
   "cell_type": "code",
   "execution_count": 9,
   "metadata": {},
   "outputs": [
    {
     "name": "stdout",
     "output_type": "stream",
     "text": [
      "Return the list of dark names for a given anneal. Must specify one of date or anneal_number, if date is specified, will determine the correct anneal_number, if date and anneal_num are specified, the date will be ignored.\n",
      "        \n",
      "        Args:\n",
      "            date (:obj:,`str`, optional): Defaults to None, the date string in format YYYY-MM-DD or YYYY-MM-DD HH:MM:SS\n",
      "            anneal_num (:obj:,`int`, optional): Defaults to None, the anneal number to query on\n",
      "            instrument (:obj:,`str`, optional): Defaults to 'STIS', the instrument to query on\n",
      "            detector (:obj:,`str`, optional): Defaults to 'CCD', the instrument to query on\n",
      "            columns (:obj:,`list`, optional): Defaults to the full set of columns, can specify a limited subset to return just those columns\n",
      "        Returns:\n",
      "            pandas.DataFrame: a dataframe of the results, may be empty if the query produces no output\n",
      "        \n"
     ]
    }
   ],
   "source": [
    "print(pixdb.query_anneal_darks.__doc__)"
   ]
  },
  {
   "cell_type": "markdown",
   "metadata": {},
   "source": [
    "### pixeldb.PixelDB.load_pixel_mapping <a class=\"anchor\" id=\"load_pixel_mapping\"></a>"
   ]
  },
  {
   "cell_type": "code",
   "execution_count": 10,
   "metadata": {},
   "outputs": [
    {
     "name": "stdout",
     "output_type": "stream",
     "text": [
      "Load the mapping of pixel entities into the database based on a mapping csv file.For the STIS CCD, this file is generated by the `create_pix_csv.py` script.\n",
      "\n",
      "        Args:\n",
      "            csv_loc (:obj:,`str`, optional): Defaults to '.' (current directory), the location of the mapping csv file\n",
      "            csv_name (:obj:,`str`, optional): Defaults to 'pixel_map.csv', the name of the csv file\n",
      "        Returns:\n",
      "            None\n",
      "        \n"
     ]
    }
   ],
   "source": [
    "print(pixdb.load_pixel_mapping.__doc__)"
   ]
  },
  {
   "cell_type": "markdown",
   "metadata": {},
   "source": [
    "### pixeldb.PixelDB.check_for_anneals <a class=\"anchor\" id=\"check_for_anneals\"></a>"
   ]
  },
  {
   "cell_type": "code",
   "execution_count": 11,
   "metadata": {},
   "outputs": [
    {
     "name": "stdout",
     "output_type": "stream",
     "text": [
      "Checks the anneals stored in the database against the list of available anneals.\n",
      "        \n",
      "        Args:\n",
      "            exclude (:obj:,`list`, optional): Defaults to an empty list. A list of anneal numbers to ignore for comparison, useful as we don't consider the first ~28 anneals for analysis.\n",
      "\n",
      "        Returns:\n",
      "            list: Returns a list of anneals not contained in the pixel database\n",
      "        \n"
     ]
    }
   ],
   "source": [
    "print(pixdb.check_for_anneals.__doc__)"
   ]
  },
  {
   "cell_type": "markdown",
   "metadata": {},
   "source": [
    "### pixeldb.PixelDB.insert_anneal <a class=\"anchor\" id=\"insert_anneal\"></a>"
   ]
  },
  {
   "cell_type": "code",
   "execution_count": 12,
   "metadata": {},
   "outputs": [
    {
     "name": "stdout",
     "output_type": "stream",
     "text": [
      "Loads an anneal and it's corresponding pixel properties and darks into the database. Loads pixel properties based on an accompanying anneal_{anneal_num}.csv file.\n",
      "        \n",
      "        Args:\n",
      "            anneal_num (int): The number of the anneal to populate, determines the filename to search for as anneal_{anneal_num}.csv\n",
      "            csv_loc (:obj:,'str', optional): Defaults to '.' (current directory), the location of the pixel property csv file\n",
      "\n",
      "        Returns\n",
      "            None\n",
      "        \n"
     ]
    }
   ],
   "source": [
    "print(pixdb.insert_anneal.__doc__)"
   ]
  },
  {
   "cell_type": "code",
   "execution_count": null,
   "metadata": {},
   "outputs": [],
   "source": []
  }
 ],
 "metadata": {
  "kernelspec": {
   "display_name": "Python 3",
   "language": "python",
   "name": "python3"
  },
  "language_info": {
   "codemirror_mode": {
    "name": "ipython",
    "version": 3
   },
   "file_extension": ".py",
   "mimetype": "text/x-python",
   "name": "python",
   "nbconvert_exporter": "python",
   "pygments_lexer": "ipython3",
   "version": "3.7.5"
  }
 },
 "nbformat": 4,
 "nbformat_minor": 5
}
